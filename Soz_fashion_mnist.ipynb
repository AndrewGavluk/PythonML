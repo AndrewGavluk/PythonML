{
  "nbformat": 4,
  "nbformat_minor": 0,
  "metadata": {
    "colab": {
      "name": "Soz_fashion_mnist",
      "provenance": [],
      "collapsed_sections": [],
      "include_colab_link": true
    },
    "kernelspec": {
      "name": "python3",
      "display_name": "Python 3"
    }
  },
  "cells": [
    {
      "cell_type": "markdown",
      "metadata": {
        "id": "view-in-github",
        "colab_type": "text"
      },
      "source": [
        "<a href=\"https://colab.research.google.com/github/AndrewGavluk/PythonML/blob/main/Soz_fashion_mnist.ipynb\" target=\"_parent\"><img src=\"https://colab.research.google.com/assets/colab-badge.svg\" alt=\"Open In Colab\"/></a>"
      ]
    },
    {
      "cell_type": "code",
      "metadata": {
        "id": "-Ax5tJO3o4TB"
      },
      "source": [
        "import keras\n",
        "import keras.layers as kLayers\n",
        "import keras.models as kModel\n",
        "import keras.backend as kBackend\n",
        "import keras.utils as utils\n",
        "import tensorflow as tf \n",
        "import numpy as np"
      ],
      "execution_count": null,
      "outputs": []
    },
    {
      "cell_type": "code",
      "metadata": {
        "id": "08pY1c6_pJF5"
      },
      "source": [
        "(x_train, y_train), (x_val, y_val) = tf.keras.datasets.fashion_mnist.load_data()"
      ],
      "execution_count": null,
      "outputs": []
    },
    {
      "cell_type": "code",
      "metadata": {
        "id": "AYzkumxOpJd6"
      },
      "source": [
        "x_train_flat = x_train.reshape(-1, 28*28).astype(float)\n",
        "x_val_flat = x_val.reshape(-1, 28*28).astype(float)\n",
        "x_train_flat /= 256\n",
        "x_val_flat  /= 256"
      ],
      "execution_count": null,
      "outputs": []
    },
    {
      "cell_type": "code",
      "metadata": {
        "id": "3c1N-nZGprhT"
      },
      "source": [
        "y_train_flat = utils.to_categorical(y_train, 10)\n",
        "y_val_flat = utils.to_categorical(y_val, 10)"
      ],
      "execution_count": null,
      "outputs": []
    },
    {
      "cell_type": "code",
      "metadata": {
        "id": "pz6xuFFyp7mJ"
      },
      "source": [
        ""
      ],
      "execution_count": null,
      "outputs": []
    },
    {
      "cell_type": "code",
      "metadata": {
        "id": "BgaFpt41qs1_"
      },
      "source": [
        "model = kModel.Sequential()"
      ],
      "execution_count": null,
      "outputs": []
    },
    {
      "cell_type": "code",
      "metadata": {
        "id": "iGSnT-LBqzrK"
      },
      "source": [
        "#model.add(kLayers.Dense(800, input_dim=784, activation=\"relu\" ))\n",
        "model.add(kLayers.Dense(10, input_dim=784, activation=\"softmax\" ))"
      ],
      "execution_count": null,
      "outputs": []
    },
    {
      "cell_type": "code",
      "metadata": {
        "id": "my0o6cnnrtbC"
      },
      "source": [
        "model.compile(loss=\"categorical_crossentropy\", optimizer=\"SGD\", metrics=[\"accuracy\"])"
      ],
      "execution_count": null,
      "outputs": []
    },
    {
      "cell_type": "code",
      "metadata": {
        "id": "8bQOtCfIvFvK",
        "colab": {
          "base_uri": "https://localhost:8080/",
          "height": 204
        },
        "outputId": "c223bb94-277c-489b-fdb9-42f9425190dd"
      },
      "source": [
        "print(model.summary())"
      ],
      "execution_count": null,
      "outputs": [
        {
          "output_type": "stream",
          "text": [
            "Model: \"sequential_2\"\n",
            "_________________________________________________________________\n",
            "Layer (type)                 Output Shape              Param #   \n",
            "=================================================================\n",
            "dense_3 (Dense)              (None, 10)                7850      \n",
            "=================================================================\n",
            "Total params: 7,850\n",
            "Trainable params: 7,850\n",
            "Non-trainable params: 0\n",
            "_________________________________________________________________\n",
            "None\n"
          ],
          "name": "stdout"
        }
      ]
    },
    {
      "cell_type": "code",
      "metadata": {
        "id": "u_PRwgZiyS38"
      },
      "source": [
        ""
      ],
      "execution_count": null,
      "outputs": []
    },
    {
      "cell_type": "code",
      "metadata": {
        "id": "ueDb-jhVvlhW",
        "colab": {
          "base_uri": "https://localhost:8080/",
          "height": 1000
        },
        "outputId": "816dff37-1a46-46ea-df76-ff4d12baecd4"
      },
      "source": [
        "model.fit(x_train_flat, y_train_flat, batch_size=200, epochs=100, verbose=1)"
      ],
      "execution_count": null,
      "outputs": [
        {
          "output_type": "stream",
          "text": [
            "Epoch 1/100\n",
            "60000/60000 [==============================] - 1s 16us/step - loss: 1.3196 - acc: 0.6074\n",
            "Epoch 2/100\n",
            "60000/60000 [==============================] - 1s 14us/step - loss: 0.8795 - acc: 0.7267\n",
            "Epoch 3/100\n",
            "60000/60000 [==============================] - 1s 14us/step - loss: 0.7731 - acc: 0.7566\n",
            "Epoch 4/100\n",
            "60000/60000 [==============================] - 1s 14us/step - loss: 0.7165 - acc: 0.7727\n",
            "Epoch 5/100\n",
            "60000/60000 [==============================] - 1s 14us/step - loss: 0.6793 - acc: 0.7837\n",
            "Epoch 6/100\n",
            "60000/60000 [==============================] - 1s 14us/step - loss: 0.6520 - acc: 0.7922\n",
            "Epoch 7/100\n",
            "60000/60000 [==============================] - 1s 14us/step - loss: 0.6309 - acc: 0.7982\n",
            "Epoch 8/100\n",
            "60000/60000 [==============================] - 1s 14us/step - loss: 0.6140 - acc: 0.8026\n",
            "Epoch 9/100\n",
            "60000/60000 [==============================] - 1s 14us/step - loss: 0.5999 - acc: 0.8063\n",
            "Epoch 10/100\n",
            "60000/60000 [==============================] - 1s 14us/step - loss: 0.5879 - acc: 0.8100\n",
            "Epoch 11/100\n",
            "60000/60000 [==============================] - 1s 14us/step - loss: 0.5776 - acc: 0.8127\n",
            "Epoch 12/100\n",
            "60000/60000 [==============================] - 1s 15us/step - loss: 0.5687 - acc: 0.8151\n",
            "Epoch 13/100\n",
            "60000/60000 [==============================] - 1s 14us/step - loss: 0.5606 - acc: 0.8179\n",
            "Epoch 14/100\n",
            "60000/60000 [==============================] - 1s 14us/step - loss: 0.5536 - acc: 0.8193\n",
            "Epoch 15/100\n",
            "60000/60000 [==============================] - 1s 14us/step - loss: 0.5473 - acc: 0.8213\n",
            "Epoch 16/100\n",
            "60000/60000 [==============================] - 1s 14us/step - loss: 0.5413 - acc: 0.8225\n",
            "Epoch 17/100\n",
            "60000/60000 [==============================] - 1s 14us/step - loss: 0.5362 - acc: 0.8239\n",
            "Epoch 18/100\n",
            "60000/60000 [==============================] - 1s 15us/step - loss: 0.5312 - acc: 0.8250\n",
            "Epoch 19/100\n",
            "60000/60000 [==============================] - 1s 14us/step - loss: 0.5269 - acc: 0.8271\n",
            "Epoch 20/100\n",
            "60000/60000 [==============================] - 1s 15us/step - loss: 0.5226 - acc: 0.8276\n",
            "Epoch 21/100\n",
            "60000/60000 [==============================] - 1s 14us/step - loss: 0.5188 - acc: 0.8287\n",
            "Epoch 22/100\n",
            "60000/60000 [==============================] - 1s 14us/step - loss: 0.5153 - acc: 0.8292\n",
            "Epoch 23/100\n",
            "60000/60000 [==============================] - 1s 15us/step - loss: 0.5119 - acc: 0.8311\n",
            "Epoch 24/100\n",
            "60000/60000 [==============================] - 1s 14us/step - loss: 0.5088 - acc: 0.8317\n",
            "Epoch 25/100\n",
            "60000/60000 [==============================] - 1s 14us/step - loss: 0.5058 - acc: 0.8319\n",
            "Epoch 26/100\n",
            "60000/60000 [==============================] - 1s 14us/step - loss: 0.5029 - acc: 0.8336\n",
            "Epoch 27/100\n",
            "60000/60000 [==============================] - 1s 15us/step - loss: 0.5004 - acc: 0.8334\n",
            "Epoch 28/100\n",
            "60000/60000 [==============================] - 1s 15us/step - loss: 0.4978 - acc: 0.8344\n",
            "Epoch 29/100\n",
            "60000/60000 [==============================] - 1s 14us/step - loss: 0.4955 - acc: 0.8347\n",
            "Epoch 30/100\n",
            "60000/60000 [==============================] - 1s 14us/step - loss: 0.4932 - acc: 0.8350\n",
            "Epoch 31/100\n",
            "60000/60000 [==============================] - 1s 15us/step - loss: 0.4911 - acc: 0.8362\n",
            "Epoch 32/100\n",
            "60000/60000 [==============================] - 1s 15us/step - loss: 0.4890 - acc: 0.8363\n",
            "Epoch 33/100\n",
            "60000/60000 [==============================] - 1s 15us/step - loss: 0.4870 - acc: 0.8372\n",
            "Epoch 34/100\n",
            "60000/60000 [==============================] - 1s 15us/step - loss: 0.4851 - acc: 0.8378\n",
            "Epoch 35/100\n",
            "60000/60000 [==============================] - 1s 15us/step - loss: 0.4834 - acc: 0.8387\n",
            "Epoch 36/100\n",
            "60000/60000 [==============================] - 1s 15us/step - loss: 0.4816 - acc: 0.8386\n",
            "Epoch 37/100\n",
            "60000/60000 [==============================] - 1s 15us/step - loss: 0.4800 - acc: 0.8399\n",
            "Epoch 38/100\n",
            "60000/60000 [==============================] - 1s 15us/step - loss: 0.4783 - acc: 0.8401\n",
            "Epoch 39/100\n",
            "60000/60000 [==============================] - 1s 15us/step - loss: 0.4766 - acc: 0.8403\n",
            "Epoch 40/100\n",
            "60000/60000 [==============================] - 1s 15us/step - loss: 0.4752 - acc: 0.8407\n",
            "Epoch 41/100\n",
            "60000/60000 [==============================] - 1s 15us/step - loss: 0.4739 - acc: 0.8409\n",
            "Epoch 42/100\n",
            "60000/60000 [==============================] - 1s 15us/step - loss: 0.4725 - acc: 0.8414\n",
            "Epoch 43/100\n",
            "60000/60000 [==============================] - 1s 15us/step - loss: 0.4711 - acc: 0.8419\n",
            "Epoch 44/100\n",
            "60000/60000 [==============================] - 1s 15us/step - loss: 0.4698 - acc: 0.8422\n",
            "Epoch 45/100\n",
            "60000/60000 [==============================] - 1s 15us/step - loss: 0.4686 - acc: 0.8426\n",
            "Epoch 46/100\n",
            "60000/60000 [==============================] - 1s 15us/step - loss: 0.4673 - acc: 0.8431\n",
            "Epoch 47/100\n",
            "60000/60000 [==============================] - 1s 14us/step - loss: 0.4662 - acc: 0.8432\n",
            "Epoch 48/100\n",
            "60000/60000 [==============================] - 1s 14us/step - loss: 0.4652 - acc: 0.8432\n",
            "Epoch 49/100\n",
            "60000/60000 [==============================] - 1s 15us/step - loss: 0.4640 - acc: 0.8435\n",
            "Epoch 50/100\n",
            "60000/60000 [==============================] - 1s 15us/step - loss: 0.4630 - acc: 0.8441\n",
            "Epoch 51/100\n",
            "60000/60000 [==============================] - 1s 15us/step - loss: 0.4618 - acc: 0.8443\n",
            "Epoch 52/100\n",
            "60000/60000 [==============================] - 1s 15us/step - loss: 0.4608 - acc: 0.8445\n",
            "Epoch 53/100\n",
            "60000/60000 [==============================] - 1s 14us/step - loss: 0.4599 - acc: 0.8449\n",
            "Epoch 54/100\n",
            "60000/60000 [==============================] - 1s 15us/step - loss: 0.4589 - acc: 0.8452\n",
            "Epoch 55/100\n",
            "60000/60000 [==============================] - 1s 14us/step - loss: 0.4579 - acc: 0.8453\n",
            "Epoch 56/100\n",
            "60000/60000 [==============================] - 1s 14us/step - loss: 0.4570 - acc: 0.8464\n",
            "Epoch 57/100\n",
            "60000/60000 [==============================] - 1s 14us/step - loss: 0.4561 - acc: 0.8459\n",
            "Epoch 58/100\n",
            "60000/60000 [==============================] - 1s 14us/step - loss: 0.4554 - acc: 0.8465\n",
            "Epoch 59/100\n",
            "60000/60000 [==============================] - 1s 14us/step - loss: 0.4546 - acc: 0.8465\n",
            "Epoch 60/100\n",
            "60000/60000 [==============================] - 1s 14us/step - loss: 0.4537 - acc: 0.8475\n",
            "Epoch 61/100\n",
            "60000/60000 [==============================] - 1s 14us/step - loss: 0.4528 - acc: 0.8468\n",
            "Epoch 62/100\n",
            "60000/60000 [==============================] - 1s 14us/step - loss: 0.4521 - acc: 0.8471\n",
            "Epoch 63/100\n",
            "60000/60000 [==============================] - 1s 14us/step - loss: 0.4513 - acc: 0.8476\n",
            "Epoch 64/100\n",
            "60000/60000 [==============================] - 1s 14us/step - loss: 0.4506 - acc: 0.8475\n",
            "Epoch 65/100\n",
            "60000/60000 [==============================] - 1s 14us/step - loss: 0.4498 - acc: 0.8481\n",
            "Epoch 66/100\n",
            "60000/60000 [==============================] - 1s 14us/step - loss: 0.4491 - acc: 0.8480\n",
            "Epoch 67/100\n",
            "60000/60000 [==============================] - 1s 14us/step - loss: 0.4484 - acc: 0.8485\n",
            "Epoch 68/100\n",
            "60000/60000 [==============================] - 1s 14us/step - loss: 0.4477 - acc: 0.8488\n",
            "Epoch 69/100\n",
            "60000/60000 [==============================] - 1s 14us/step - loss: 0.4470 - acc: 0.8486\n",
            "Epoch 70/100\n",
            "60000/60000 [==============================] - 1s 14us/step - loss: 0.4464 - acc: 0.8491\n",
            "Epoch 71/100\n",
            "60000/60000 [==============================] - 1s 14us/step - loss: 0.4457 - acc: 0.8491\n",
            "Epoch 72/100\n",
            "60000/60000 [==============================] - 1s 14us/step - loss: 0.4451 - acc: 0.8497\n",
            "Epoch 73/100\n",
            "60000/60000 [==============================] - 1s 14us/step - loss: 0.4445 - acc: 0.8498\n",
            "Epoch 74/100\n",
            "60000/60000 [==============================] - 1s 14us/step - loss: 0.4439 - acc: 0.8499\n",
            "Epoch 75/100\n",
            "60000/60000 [==============================] - 1s 14us/step - loss: 0.4434 - acc: 0.8501\n",
            "Epoch 76/100\n",
            "60000/60000 [==============================] - 1s 15us/step - loss: 0.4427 - acc: 0.8502\n",
            "Epoch 77/100\n",
            "60000/60000 [==============================] - 1s 14us/step - loss: 0.4422 - acc: 0.8501\n",
            "Epoch 78/100\n",
            "60000/60000 [==============================] - 1s 14us/step - loss: 0.4416 - acc: 0.8505\n",
            "Epoch 79/100\n",
            "60000/60000 [==============================] - 1s 14us/step - loss: 0.4411 - acc: 0.8509\n",
            "Epoch 80/100\n",
            "60000/60000 [==============================] - 1s 14us/step - loss: 0.4405 - acc: 0.8505\n",
            "Epoch 81/100\n",
            "60000/60000 [==============================] - 1s 14us/step - loss: 0.4400 - acc: 0.8511\n",
            "Epoch 82/100\n",
            "60000/60000 [==============================] - 1s 14us/step - loss: 0.4394 - acc: 0.8508\n",
            "Epoch 83/100\n",
            "60000/60000 [==============================] - 1s 14us/step - loss: 0.4389 - acc: 0.8513\n",
            "Epoch 84/100\n",
            "60000/60000 [==============================] - 1s 14us/step - loss: 0.4384 - acc: 0.8513\n",
            "Epoch 85/100\n",
            "60000/60000 [==============================] - 1s 14us/step - loss: 0.4380 - acc: 0.8517\n",
            "Epoch 86/100\n",
            "60000/60000 [==============================] - 1s 14us/step - loss: 0.4374 - acc: 0.8510\n",
            "Epoch 87/100\n",
            "60000/60000 [==============================] - 1s 14us/step - loss: 0.4370 - acc: 0.8522\n",
            "Epoch 88/100\n",
            "60000/60000 [==============================] - 1s 14us/step - loss: 0.4366 - acc: 0.8520\n",
            "Epoch 89/100\n",
            "60000/60000 [==============================] - 1s 13us/step - loss: 0.4360 - acc: 0.8521\n",
            "Epoch 90/100\n",
            "60000/60000 [==============================] - 1s 14us/step - loss: 0.4356 - acc: 0.8522\n",
            "Epoch 91/100\n",
            "60000/60000 [==============================] - 1s 14us/step - loss: 0.4351 - acc: 0.8526\n",
            "Epoch 92/100\n",
            "60000/60000 [==============================] - 1s 14us/step - loss: 0.4348 - acc: 0.8523\n",
            "Epoch 93/100\n",
            "60000/60000 [==============================] - 1s 13us/step - loss: 0.4342 - acc: 0.8532\n",
            "Epoch 94/100\n",
            "60000/60000 [==============================] - 1s 13us/step - loss: 0.4338 - acc: 0.8532\n",
            "Epoch 95/100\n",
            "60000/60000 [==============================] - 1s 14us/step - loss: 0.4334 - acc: 0.8525\n",
            "Epoch 96/100\n",
            "60000/60000 [==============================] - 1s 13us/step - loss: 0.4330 - acc: 0.8529\n",
            "Epoch 97/100\n",
            "60000/60000 [==============================] - 1s 14us/step - loss: 0.4326 - acc: 0.8529\n",
            "Epoch 98/100\n",
            "60000/60000 [==============================] - 1s 14us/step - loss: 0.4322 - acc: 0.8532\n",
            "Epoch 99/100\n",
            "60000/60000 [==============================] - 1s 14us/step - loss: 0.4317 - acc: 0.8535\n",
            "Epoch 100/100\n",
            "60000/60000 [==============================] - 1s 14us/step - loss: 0.4314 - acc: 0.8535\n"
          ],
          "name": "stdout"
        },
        {
          "output_type": "execute_result",
          "data": {
            "text/plain": [
              "<keras.callbacks.History at 0x7fe320a2cf98>"
            ]
          },
          "metadata": {
            "tags": []
          },
          "execution_count": 53
        }
      ]
    },
    {
      "cell_type": "code",
      "metadata": {
        "id": "-W_ytoEYyUQD"
      },
      "source": [
        "predictions = model.predict(x_train_flat)"
      ],
      "execution_count": null,
      "outputs": []
    },
    {
      "cell_type": "code",
      "metadata": {
        "id": "jS9Zk3WlzWx1",
        "colab": {
          "base_uri": "https://localhost:8080/",
          "height": 34
        },
        "outputId": "10772bd9-1525-4ecc-a379-8517438cee9c"
      },
      "source": [
        "print(np.argmax(predictions[0]))"
      ],
      "execution_count": null,
      "outputs": [
        {
          "output_type": "stream",
          "text": [
            "9\n"
          ],
          "name": "stdout"
        }
      ]
    },
    {
      "cell_type": "code",
      "metadata": {
        "id": "luGxTZr3zmXv",
        "colab": {
          "base_uri": "https://localhost:8080/",
          "height": 34
        },
        "outputId": "65f1c9e6-8ade-42df-f07f-838be8e4aebe"
      },
      "source": [
        "print(y_train[0])"
      ],
      "execution_count": null,
      "outputs": [
        {
          "output_type": "stream",
          "text": [
            "9\n"
          ],
          "name": "stdout"
        }
      ]
    },
    {
      "cell_type": "code",
      "metadata": {
        "id": "lQFad65i0f9t",
        "colab": {
          "base_uri": "https://localhost:8080/",
          "height": 51
        },
        "outputId": "d8b2038e-c561-484b-b256-835c135c9ba7"
      },
      "source": [
        "scores = model.evaluate(x_val_flat, y_val_flat, verbose = 1)\n",
        "print(\"Доля верных ответов = \", scores[1])"
      ],
      "execution_count": null,
      "outputs": [
        {
          "output_type": "stream",
          "text": [
            "10000/10000 [==============================] - 0s 40us/step\n",
            "Доля верных ответов =  0.8374\n"
          ],
          "name": "stdout"
        }
      ]
    }
  ]
}