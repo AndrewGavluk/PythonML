{
  "nbformat": 4,
  "nbformat_minor": 0,
  "metadata": {
    "colab": {
      "name": "HW2.1.ipynb",
      "provenance": [],
      "collapsed_sections": [],
      "include_colab_link": true
    },
    "kernelspec": {
      "name": "python3",
      "display_name": "Python 3"
    }
  },
  "cells": [
    {
      "cell_type": "markdown",
      "metadata": {
        "id": "view-in-github",
        "colab_type": "text"
      },
      "source": [
        "<a href=\"https://colab.research.google.com/github/AndrewGavluk/PythonML/blob/main/HW2_1.ipynb\" target=\"_parent\"><img src=\"https://colab.research.google.com/assets/colab-badge.svg\" alt=\"Open In Colab\"/></a>"
      ]
    },
    {
      "cell_type": "code",
      "metadata": {
        "id": "wTqwK9E-vekd"
      },
      "source": [
        "import keras\n",
        "import keras.layers as kLayers\n",
        "import keras.models as kModel\n",
        "import keras.backend as kBackend\n",
        "import keras.utils as utils\n",
        "import tensorflow as tf \n",
        "import numpy as np"
      ],
      "execution_count": null,
      "outputs": []
    },
    {
      "cell_type": "code",
      "metadata": {
        "id": "asIxdvid8Xj1"
      },
      "source": [
        "SIZE = 28\n",
        "SQ_SIZE = SIZE * SIZE "
      ],
      "execution_count": null,
      "outputs": []
    },
    {
      "cell_type": "code",
      "metadata": {
        "id": "7A9LgXy-bzBZ"
      },
      "source": [
        "(x_train, y_train), (x_val, y_val) = tf.keras.datasets.fashion_mnist.load_data()\n",
        "print(x_train.shape)\n",
        "print(y_train.shape)\n",
        "print(x_val.shape)\n",
        "print(y_val.shape)"
      ],
      "execution_count": null,
      "outputs": []
    },
    {
      "cell_type": "code",
      "metadata": {
        "id": "YXdrlxXh0BMo"
      },
      "source": [
        "x_train_flat = x_train.reshape(-1, SQ_SIZE).astype(float)\n",
        "x_train_flat /= 256\n",
        "у_train_flat = utils.to_categorical(y_train, 10)\n",
        "\n",
        "x_val_flat = x_val.reshape(-1, SQ_SIZE).astype(float)\n",
        "x_val_flat /= 256\n",
        "y_val_flat = utils.to_categorical(y_val, 10)"
      ],
      "execution_count": null,
      "outputs": []
    },
    {
      "cell_type": "code",
      "metadata": {
        "id": "Q81Ww78q0uvh"
      },
      "source": [
        "# Test 1 acuracy = .0336\n",
        "model = kModel.Sequential()\n",
        "model.add(kLayers.Dense(10, input_dim=784, activation=\"softmax\" ))\n",
        "model.summary()\n",
        "model.compile(optimizer='sgd', loss='categorical_crossentropy', metrics=['accuracy']) "
      ],
      "execution_count": null,
      "outputs": []
    },
    {
      "cell_type": "code",
      "metadata": {
        "id": "blCD9T5Y4pHN"
      },
      "source": [
        "# Test 2 acuracy = .8684 \n",
        "model = kModel.Sequential()\n",
        "model.add(kLayers.Dense(800, input_dim=784, activation=\"relu\" ))\n",
        "model.add(kLayers.Dense(10,  activation=\"softmax\" ))\n",
        "model.summary()\n",
        "model.compile(optimizer='sgd', loss='categorical_crossentropy', metrics=['accuracy']) "
      ],
      "execution_count": null,
      "outputs": []
    },
    {
      "cell_type": "code",
      "metadata": {
        "id": "mhqd_IfRAtXg",
        "colab": {
          "base_uri": "https://localhost:8080/",
          "height": 255
        },
        "outputId": "21951e01-0030-4768-efa7-154e5e024a70"
      },
      "source": [
        "# Test 3 acuracy = .901 \n",
        " model = kModel.Sequential()\n",
        " model.add(kLayers.Dense(128, input_dim=784, activation=\"relu\" ))\n",
        " model.add(kLayers.Dense(128, activation=\"relu\" ))\n",
        " model.add(kLayers.Dense(10,  activation=\"softmax\" ))\n",
        " model.summary()\n",
        " model.compile(optimizer='sgd', loss='categorical_crossentropy', metrics=['accuracy']) "
      ],
      "execution_count": null,
      "outputs": [
        {
          "output_type": "stream",
          "text": [
            "Model: \"sequential_6\"\n",
            "_________________________________________________________________\n",
            "Layer (type)                 Output Shape              Param #   \n",
            "=================================================================\n",
            "dense_14 (Dense)             (None, 128)               100480    \n",
            "_________________________________________________________________\n",
            "dense_15 (Dense)             (None, 128)               16512     \n",
            "_________________________________________________________________\n",
            "dense_16 (Dense)             (None, 10)                1290      \n",
            "=================================================================\n",
            "Total params: 118,282\n",
            "Trainable params: 118,282\n",
            "Non-trainable params: 0\n",
            "_________________________________________________________________\n"
          ],
          "name": "stdout"
        }
      ]
    },
    {
      "cell_type": "code",
      "metadata": {
        "id": "WORxrrb7au-F",
        "colab": {
          "base_uri": "https://localhost:8080/",
          "height": 221
        },
        "outputId": "2b9eba21-fab9-4899-dff9-ebd63c36bc3c"
      },
      "source": [
        "# Test 4 acuracy = .872 \n",
        " model = kModel.Sequential()\n",
        " model.add(kLayers.Dense(784, input_dim=784, activation=\"relu\" ))\n",
        " model.add(kLayers.Dense(10,  activation=\"softmax\" ))\n",
        " model.summary()\n",
        " model.compile(optimizer='sgd', loss='categorical_crossentropy', metrics=['accuracy']) "
      ],
      "execution_count": null,
      "outputs": [
        {
          "output_type": "stream",
          "text": [
            "Model: \"sequential_20\"\n",
            "_________________________________________________________________\n",
            "Layer (type)                 Output Shape              Param #   \n",
            "=================================================================\n",
            "dense_38 (Dense)             (None, 784)               615440    \n",
            "_________________________________________________________________\n",
            "dense_39 (Dense)             (None, 10)                7850      \n",
            "=================================================================\n",
            "Total params: 623,290\n",
            "Trainable params: 623,290\n",
            "Non-trainable params: 0\n",
            "_________________________________________________________________\n"
          ],
          "name": "stdout"
        }
      ]
    },
    {
      "cell_type": "code",
      "metadata": {
        "id": "3ue10_QdDssK"
      },
      "source": [
        "# Test 5 acuracy =  .8846\n",
        " model = kModel.Sequential()\n",
        " model.add(kLayers.Dense(784, input_dim=784, activation=\"relu\" ))\n",
        " model.add(kLayers.Dense(128, input_dim=128, activation=\"relu\" ))\n",
        " model.add(kLayers.Dense(128, input_dim=128, activation=\"relu\" ))\n",
        " model.add(kLayers.Dense(10,  activation=\"softmax\" ))\n",
        " model.summary()\n",
        " model.compile(optimizer='sgd', loss='categorical_crossentropy', metrics=['accuracy']) "
      ],
      "execution_count": null,
      "outputs": []
    },
    {
      "cell_type": "code",
      "metadata": {
        "id": "6FHVgeylHOkO"
      },
      "source": [
        ""
      ],
      "execution_count": null,
      "outputs": []
    },
    {
      "cell_type": "code",
      "metadata": {
        "id": "15b6YLbW3EZ_"
      },
      "source": [
        "model.fit(x_train_flat, у_train_flat, batch_size=200, epochs=100, verbose=1)"
      ],
      "execution_count": null,
      "outputs": []
    },
    {
      "cell_type": "markdown",
      "metadata": {
        "id": "pfCuSkGAghQt"
      },
      "source": [
        "validation_split=0.1 - разбивает выборку на валидационную(10%) и обучающую\n",
        "\n",
        "acc - точность(accuracy) на обучающей(train) выборке\n",
        "\n",
        "val_acc - точность(accuracy) на тестовой(validation_split=0.1) выборке\n",
        "\n",
        "loss - значение loss-функции на обучающей(train) выборке \n",
        "\n",
        "val_acc - значение loss-функции на на тестовой(validation_split=0.1) выборке"
      ]
    },
    {
      "cell_type": "code",
      "metadata": {
        "id": "FJjFLb1Qfy8E",
        "colab": {
          "base_uri": "https://localhost:8080/",
          "height": 1000
        },
        "outputId": "c51bf7a8-f07b-4bb6-d19e-d7879a6915d6"
      },
      "source": [
        "model.fit(x_train_flat, у_train_flat,  validation_split=0.1, batch_size=200, epochs=100, verbose=1)"
      ],
      "execution_count": null,
      "outputs": [
        {
          "output_type": "stream",
          "text": [
            "Train on 54000 samples, validate on 6000 samples\n",
            "Epoch 1/100\n",
            "54000/54000 [==============================] - 2s 39us/step - loss: 1.3446 - acc: 0.5936 - val_loss: 0.8770 - val_acc: 0.7142\n",
            "Epoch 2/100\n",
            "54000/54000 [==============================] - 2s 32us/step - loss: 0.7822 - acc: 0.7407 - val_loss: 0.6904 - val_acc: 0.7695\n",
            "Epoch 3/100\n",
            "54000/54000 [==============================] - 2s 28us/step - loss: 0.6613 - acc: 0.7814 - val_loss: 0.6144 - val_acc: 0.7900\n",
            "Epoch 4/100\n",
            "54000/54000 [==============================] - 2s 29us/step - loss: 0.6002 - acc: 0.7996 - val_loss: 0.5702 - val_acc: 0.8028\n",
            "Epoch 5/100\n",
            "54000/54000 [==============================] - 2s 28us/step - loss: 0.5613 - acc: 0.8095 - val_loss: 0.5418 - val_acc: 0.8130\n",
            "Epoch 6/100\n",
            "54000/54000 [==============================] - 2s 28us/step - loss: 0.5342 - acc: 0.8182 - val_loss: 0.5191 - val_acc: 0.8173\n",
            "Epoch 7/100\n",
            "54000/54000 [==============================] - 2s 28us/step - loss: 0.5136 - acc: 0.8236 - val_loss: 0.5103 - val_acc: 0.8225\n",
            "Epoch 8/100\n",
            "54000/54000 [==============================] - 2s 29us/step - loss: 0.4990 - acc: 0.8287 - val_loss: 0.4945 - val_acc: 0.8238\n",
            "Epoch 9/100\n",
            "54000/54000 [==============================] - 2s 30us/step - loss: 0.4861 - acc: 0.8322 - val_loss: 0.4809 - val_acc: 0.8303\n",
            "Epoch 10/100\n",
            "54000/54000 [==============================] - 2s 29us/step - loss: 0.4757 - acc: 0.8362 - val_loss: 0.4709 - val_acc: 0.8308\n",
            "Epoch 11/100\n",
            "54000/54000 [==============================] - 2s 29us/step - loss: 0.4667 - acc: 0.8385 - val_loss: 0.4690 - val_acc: 0.8378\n",
            "Epoch 12/100\n",
            "54000/54000 [==============================] - 2s 29us/step - loss: 0.4594 - acc: 0.8412 - val_loss: 0.4558 - val_acc: 0.8395\n",
            "Epoch 13/100\n",
            "54000/54000 [==============================] - 2s 29us/step - loss: 0.4516 - acc: 0.8445 - val_loss: 0.4539 - val_acc: 0.8378\n",
            "Epoch 14/100\n",
            "54000/54000 [==============================] - 2s 28us/step - loss: 0.4450 - acc: 0.8452 - val_loss: 0.4445 - val_acc: 0.8430\n",
            "Epoch 15/100\n",
            "54000/54000 [==============================] - 2s 29us/step - loss: 0.4398 - acc: 0.8471 - val_loss: 0.4426 - val_acc: 0.8452\n",
            "Epoch 16/100\n",
            "54000/54000 [==============================] - 2s 29us/step - loss: 0.4346 - acc: 0.8491 - val_loss: 0.4366 - val_acc: 0.8470\n",
            "Epoch 17/100\n",
            "54000/54000 [==============================] - 2s 28us/step - loss: 0.4294 - acc: 0.8513 - val_loss: 0.4396 - val_acc: 0.8420\n",
            "Epoch 18/100\n",
            "54000/54000 [==============================] - 2s 30us/step - loss: 0.4245 - acc: 0.8531 - val_loss: 0.4277 - val_acc: 0.8513\n",
            "Epoch 19/100\n",
            "54000/54000 [==============================] - 2s 29us/step - loss: 0.4203 - acc: 0.8536 - val_loss: 0.4231 - val_acc: 0.8512\n",
            "Epoch 20/100\n",
            "54000/54000 [==============================] - 2s 29us/step - loss: 0.4157 - acc: 0.8550 - val_loss: 0.4239 - val_acc: 0.8512\n",
            "Epoch 21/100\n",
            "54000/54000 [==============================] - 2s 30us/step - loss: 0.4116 - acc: 0.8565 - val_loss: 0.4149 - val_acc: 0.8565\n",
            "Epoch 22/100\n",
            "54000/54000 [==============================] - 2s 28us/step - loss: 0.4088 - acc: 0.8584 - val_loss: 0.4147 - val_acc: 0.8542\n",
            "Epoch 23/100\n",
            "54000/54000 [==============================] - 2s 29us/step - loss: 0.4059 - acc: 0.8586 - val_loss: 0.4132 - val_acc: 0.8552\n",
            "Epoch 24/100\n",
            "54000/54000 [==============================] - 2s 28us/step - loss: 0.4016 - acc: 0.8602 - val_loss: 0.4214 - val_acc: 0.8502\n",
            "Epoch 25/100\n",
            "54000/54000 [==============================] - 2s 29us/step - loss: 0.3975 - acc: 0.8619 - val_loss: 0.4061 - val_acc: 0.8568\n",
            "Epoch 26/100\n",
            "54000/54000 [==============================] - 2s 29us/step - loss: 0.3942 - acc: 0.8634 - val_loss: 0.4012 - val_acc: 0.8597\n",
            "Epoch 27/100\n",
            "54000/54000 [==============================] - 2s 28us/step - loss: 0.3912 - acc: 0.8628 - val_loss: 0.4033 - val_acc: 0.8565\n",
            "Epoch 28/100\n",
            "54000/54000 [==============================] - 2s 28us/step - loss: 0.3892 - acc: 0.8646 - val_loss: 0.4005 - val_acc: 0.8595\n",
            "Epoch 29/100\n",
            "54000/54000 [==============================] - 2s 28us/step - loss: 0.3866 - acc: 0.8657 - val_loss: 0.3962 - val_acc: 0.8608\n",
            "Epoch 30/100\n",
            "54000/54000 [==============================] - 2s 29us/step - loss: 0.3828 - acc: 0.8671 - val_loss: 0.3950 - val_acc: 0.8583\n",
            "Epoch 31/100\n",
            "54000/54000 [==============================] - 2s 29us/step - loss: 0.3804 - acc: 0.8672 - val_loss: 0.3937 - val_acc: 0.8623\n",
            "Epoch 32/100\n",
            "54000/54000 [==============================] - 2s 30us/step - loss: 0.3781 - acc: 0.8680 - val_loss: 0.3914 - val_acc: 0.8613\n",
            "Epoch 33/100\n",
            "54000/54000 [==============================] - 2s 28us/step - loss: 0.3753 - acc: 0.8702 - val_loss: 0.3874 - val_acc: 0.8640\n",
            "Epoch 34/100\n",
            "54000/54000 [==============================] - 2s 32us/step - loss: 0.3726 - acc: 0.8702 - val_loss: 0.3883 - val_acc: 0.8647\n",
            "Epoch 35/100\n",
            "54000/54000 [==============================] - 2s 29us/step - loss: 0.3710 - acc: 0.8697 - val_loss: 0.3856 - val_acc: 0.8640\n",
            "Epoch 36/100\n",
            "54000/54000 [==============================] - 2s 28us/step - loss: 0.3688 - acc: 0.8720 - val_loss: 0.3850 - val_acc: 0.8648\n",
            "Epoch 37/100\n",
            "54000/54000 [==============================] - 2s 29us/step - loss: 0.3658 - acc: 0.8724 - val_loss: 0.3825 - val_acc: 0.8662\n",
            "Epoch 38/100\n",
            "54000/54000 [==============================] - 2s 28us/step - loss: 0.3639 - acc: 0.8738 - val_loss: 0.3808 - val_acc: 0.8658\n",
            "Epoch 39/100\n",
            "54000/54000 [==============================] - 2s 29us/step - loss: 0.3624 - acc: 0.8736 - val_loss: 0.3799 - val_acc: 0.8685\n",
            "Epoch 40/100\n",
            "54000/54000 [==============================] - 2s 28us/step - loss: 0.3602 - acc: 0.8742 - val_loss: 0.3864 - val_acc: 0.8622\n",
            "Epoch 41/100\n",
            "54000/54000 [==============================] - 2s 28us/step - loss: 0.3587 - acc: 0.8741 - val_loss: 0.3774 - val_acc: 0.8655\n",
            "Epoch 42/100\n",
            "54000/54000 [==============================] - 2s 29us/step - loss: 0.3565 - acc: 0.8765 - val_loss: 0.3821 - val_acc: 0.8688\n",
            "Epoch 43/100\n",
            "54000/54000 [==============================] - 2s 30us/step - loss: 0.3551 - acc: 0.8770 - val_loss: 0.3749 - val_acc: 0.8698\n",
            "Epoch 44/100\n",
            "54000/54000 [==============================] - 2s 31us/step - loss: 0.3525 - acc: 0.8775 - val_loss: 0.3733 - val_acc: 0.8672\n",
            "Epoch 45/100\n",
            "54000/54000 [==============================] - 2s 31us/step - loss: 0.3507 - acc: 0.8774 - val_loss: 0.3881 - val_acc: 0.8597\n",
            "Epoch 46/100\n",
            "54000/54000 [==============================] - 2s 31us/step - loss: 0.3488 - acc: 0.8784 - val_loss: 0.3946 - val_acc: 0.8573\n",
            "Epoch 47/100\n",
            "54000/54000 [==============================] - 2s 31us/step - loss: 0.3470 - acc: 0.8791 - val_loss: 0.3744 - val_acc: 0.8682\n",
            "Epoch 48/100\n",
            "54000/54000 [==============================] - 2s 32us/step - loss: 0.3461 - acc: 0.8799 - val_loss: 0.3692 - val_acc: 0.8702\n",
            "Epoch 49/100\n",
            "54000/54000 [==============================] - 2s 30us/step - loss: 0.3449 - acc: 0.8798 - val_loss: 0.3638 - val_acc: 0.8723\n",
            "Epoch 50/100\n",
            "54000/54000 [==============================] - 2s 28us/step - loss: 0.3423 - acc: 0.8799 - val_loss: 0.3680 - val_acc: 0.8697\n",
            "Epoch 51/100\n",
            "54000/54000 [==============================] - 2s 30us/step - loss: 0.3407 - acc: 0.8807 - val_loss: 0.3697 - val_acc: 0.8710\n",
            "Epoch 52/100\n",
            "54000/54000 [==============================] - 2s 30us/step - loss: 0.3397 - acc: 0.8819 - val_loss: 0.3614 - val_acc: 0.8718\n",
            "Epoch 53/100\n",
            "54000/54000 [==============================] - 2s 29us/step - loss: 0.3369 - acc: 0.8818 - val_loss: 0.3652 - val_acc: 0.8712\n",
            "Epoch 54/100\n",
            "54000/54000 [==============================] - 2s 30us/step - loss: 0.3367 - acc: 0.8814 - val_loss: 0.3590 - val_acc: 0.8755\n",
            "Epoch 55/100\n",
            "54000/54000 [==============================] - 2s 29us/step - loss: 0.3339 - acc: 0.8826 - val_loss: 0.3630 - val_acc: 0.8723\n",
            "Epoch 56/100\n",
            "54000/54000 [==============================] - 2s 30us/step - loss: 0.3324 - acc: 0.8831 - val_loss: 0.3603 - val_acc: 0.8723\n",
            "Epoch 57/100\n",
            "54000/54000 [==============================] - 2s 30us/step - loss: 0.3309 - acc: 0.8838 - val_loss: 0.3631 - val_acc: 0.8727\n",
            "Epoch 58/100\n",
            "54000/54000 [==============================] - 2s 30us/step - loss: 0.3301 - acc: 0.8839 - val_loss: 0.3581 - val_acc: 0.8725\n",
            "Epoch 59/100\n",
            "54000/54000 [==============================] - 2s 30us/step - loss: 0.3287 - acc: 0.8848 - val_loss: 0.3576 - val_acc: 0.8738\n",
            "Epoch 60/100\n",
            "54000/54000 [==============================] - 2s 30us/step - loss: 0.3274 - acc: 0.8850 - val_loss: 0.3631 - val_acc: 0.8723\n",
            "Epoch 61/100\n",
            "54000/54000 [==============================] - 2s 29us/step - loss: 0.3273 - acc: 0.8848 - val_loss: 0.3530 - val_acc: 0.8752\n",
            "Epoch 62/100\n",
            "54000/54000 [==============================] - 2s 29us/step - loss: 0.3239 - acc: 0.8865 - val_loss: 0.3613 - val_acc: 0.8748\n",
            "Epoch 63/100\n",
            "54000/54000 [==============================] - 2s 28us/step - loss: 0.3230 - acc: 0.8865 - val_loss: 0.3554 - val_acc: 0.8725\n",
            "Epoch 64/100\n",
            "54000/54000 [==============================] - 2s 29us/step - loss: 0.3217 - acc: 0.8866 - val_loss: 0.3588 - val_acc: 0.8713\n",
            "Epoch 65/100\n",
            "54000/54000 [==============================] - 2s 29us/step - loss: 0.3194 - acc: 0.8882 - val_loss: 0.3524 - val_acc: 0.8752\n",
            "Epoch 66/100\n",
            "54000/54000 [==============================] - 2s 28us/step - loss: 0.3184 - acc: 0.8890 - val_loss: 0.3536 - val_acc: 0.8742\n",
            "Epoch 67/100\n",
            "54000/54000 [==============================] - 2s 29us/step - loss: 0.3173 - acc: 0.8881 - val_loss: 0.3535 - val_acc: 0.8735\n",
            "Epoch 68/100\n",
            "54000/54000 [==============================] - 2s 28us/step - loss: 0.3164 - acc: 0.8884 - val_loss: 0.3521 - val_acc: 0.8742\n",
            "Epoch 69/100\n",
            "54000/54000 [==============================] - 2s 29us/step - loss: 0.3153 - acc: 0.8883 - val_loss: 0.3502 - val_acc: 0.8737\n",
            "Epoch 70/100\n",
            "54000/54000 [==============================] - 2s 28us/step - loss: 0.3137 - acc: 0.8901 - val_loss: 0.3633 - val_acc: 0.8708\n",
            "Epoch 71/100\n",
            "54000/54000 [==============================] - 2s 29us/step - loss: 0.3126 - acc: 0.8905 - val_loss: 0.3501 - val_acc: 0.8743\n",
            "Epoch 72/100\n",
            "54000/54000 [==============================] - 2s 29us/step - loss: 0.3112 - acc: 0.8905 - val_loss: 0.3520 - val_acc: 0.8742\n",
            "Epoch 73/100\n",
            "54000/54000 [==============================] - 2s 29us/step - loss: 0.3101 - acc: 0.8906 - val_loss: 0.3458 - val_acc: 0.8768\n",
            "Epoch 74/100\n",
            "54000/54000 [==============================] - 2s 29us/step - loss: 0.3092 - acc: 0.8909 - val_loss: 0.3455 - val_acc: 0.8777\n",
            "Epoch 75/100\n",
            "54000/54000 [==============================] - 2s 29us/step - loss: 0.3076 - acc: 0.8924 - val_loss: 0.3465 - val_acc: 0.8785\n",
            "Epoch 76/100\n",
            "54000/54000 [==============================] - 2s 29us/step - loss: 0.3060 - acc: 0.8929 - val_loss: 0.3430 - val_acc: 0.8802\n",
            "Epoch 77/100\n",
            "54000/54000 [==============================] - 2s 30us/step - loss: 0.3050 - acc: 0.8927 - val_loss: 0.3457 - val_acc: 0.8782\n",
            "Epoch 78/100\n",
            "54000/54000 [==============================] - 2s 32us/step - loss: 0.3039 - acc: 0.8933 - val_loss: 0.3471 - val_acc: 0.8742\n",
            "Epoch 79/100\n",
            "54000/54000 [==============================] - 2s 29us/step - loss: 0.3030 - acc: 0.8932 - val_loss: 0.3400 - val_acc: 0.8792\n",
            "Epoch 80/100\n",
            "54000/54000 [==============================] - 2s 29us/step - loss: 0.3017 - acc: 0.8932 - val_loss: 0.3488 - val_acc: 0.8755\n",
            "Epoch 81/100\n",
            "54000/54000 [==============================] - 2s 29us/step - loss: 0.3007 - acc: 0.8941 - val_loss: 0.3405 - val_acc: 0.8802\n",
            "Epoch 82/100\n",
            "54000/54000 [==============================] - 2s 29us/step - loss: 0.2999 - acc: 0.8947 - val_loss: 0.3419 - val_acc: 0.8798\n",
            "Epoch 83/100\n",
            "54000/54000 [==============================] - 2s 29us/step - loss: 0.2994 - acc: 0.8946 - val_loss: 0.3444 - val_acc: 0.8773\n",
            "Epoch 84/100\n",
            "54000/54000 [==============================] - 2s 30us/step - loss: 0.2982 - acc: 0.8946 - val_loss: 0.3383 - val_acc: 0.8782\n",
            "Epoch 85/100\n",
            "54000/54000 [==============================] - 2s 29us/step - loss: 0.2964 - acc: 0.8956 - val_loss: 0.3374 - val_acc: 0.8810\n",
            "Epoch 86/100\n",
            "54000/54000 [==============================] - 2s 30us/step - loss: 0.2947 - acc: 0.8965 - val_loss: 0.3415 - val_acc: 0.8787\n",
            "Epoch 87/100\n",
            "54000/54000 [==============================] - 2s 28us/step - loss: 0.2942 - acc: 0.8967 - val_loss: 0.3421 - val_acc: 0.8770\n",
            "Epoch 88/100\n",
            "54000/54000 [==============================] - 2s 29us/step - loss: 0.2938 - acc: 0.8967 - val_loss: 0.3540 - val_acc: 0.8755\n",
            "Epoch 89/100\n",
            "54000/54000 [==============================] - 2s 29us/step - loss: 0.2928 - acc: 0.8969 - val_loss: 0.3405 - val_acc: 0.8793\n",
            "Epoch 90/100\n",
            "54000/54000 [==============================] - 2s 29us/step - loss: 0.2915 - acc: 0.8975 - val_loss: 0.3410 - val_acc: 0.8782\n",
            "Epoch 91/100\n",
            "54000/54000 [==============================] - 2s 29us/step - loss: 0.2903 - acc: 0.8981 - val_loss: 0.3416 - val_acc: 0.8757\n",
            "Epoch 92/100\n",
            "54000/54000 [==============================] - 2s 29us/step - loss: 0.2897 - acc: 0.8977 - val_loss: 0.3371 - val_acc: 0.8817\n",
            "Epoch 93/100\n",
            "54000/54000 [==============================] - 2s 30us/step - loss: 0.2887 - acc: 0.8983 - val_loss: 0.3369 - val_acc: 0.8817\n",
            "Epoch 94/100\n",
            "54000/54000 [==============================] - 2s 30us/step - loss: 0.2873 - acc: 0.8982 - val_loss: 0.3370 - val_acc: 0.8793\n",
            "Epoch 95/100\n",
            "54000/54000 [==============================] - 2s 29us/step - loss: 0.2865 - acc: 0.8994 - val_loss: 0.3357 - val_acc: 0.8797\n",
            "Epoch 96/100\n",
            "54000/54000 [==============================] - 2s 28us/step - loss: 0.2858 - acc: 0.8993 - val_loss: 0.3341 - val_acc: 0.8807\n",
            "Epoch 97/100\n",
            "54000/54000 [==============================] - 2s 29us/step - loss: 0.2840 - acc: 0.9006 - val_loss: 0.3323 - val_acc: 0.8808\n",
            "Epoch 98/100\n",
            "54000/54000 [==============================] - 2s 30us/step - loss: 0.2846 - acc: 0.8998 - val_loss: 0.3415 - val_acc: 0.8783\n",
            "Epoch 99/100\n",
            "54000/54000 [==============================] - 2s 29us/step - loss: 0.2827 - acc: 0.9007 - val_loss: 0.3402 - val_acc: 0.8812\n",
            "Epoch 100/100\n",
            "54000/54000 [==============================] - 1s 28us/step - loss: 0.2815 - acc: 0.9010 - val_loss: 0.3355 - val_acc: 0.8800\n"
          ],
          "name": "stdout"
        },
        {
          "output_type": "execute_result",
          "data": {
            "text/plain": [
              "<keras.callbacks.History at 0x7fdb541e0278>"
            ]
          },
          "metadata": {
            "tags": []
          },
          "execution_count": 20
        }
      ]
    },
    {
      "cell_type": "code",
      "metadata": {
        "id": "UJ-U7g1b4Bbn"
      },
      "source": [
        "# Добавить кросс-валидацию\n",
        "print(model.metrics_names)\n",
        "scores = model.evaluate(x_val_flat, y_val_flat, verbose = 1)\n",
        "print(\"Доля верных ответов = \", scores[1])\n",
        "print(\"loss = \", scores[0])\n"
      ],
      "execution_count": null,
      "outputs": []
    },
    {
      "cell_type": "code",
      "metadata": {
        "id": "NMfmJs156MfY",
        "colab": {
          "base_uri": "https://localhost:8080/",
          "height": 68
        },
        "outputId": "ca9e04d3-1665-4c11-eaa8-663fd860fe52"
      },
      "source": [
        "scores = model.evaluate(x_train_flat, у_train_flat, verbose = 1)\n",
        "print(\"Доля верных ответов = \", scores[1])\n",
        "print(\"loss = \", scores[0])"
      ],
      "execution_count": null,
      "outputs": [
        {
          "output_type": "stream",
          "text": [
            "60000/60000 [==============================] - 2s 28us/step\n",
            "Доля верных ответов =  0.8997666666666667\n",
            "loss =  0.2840545995195707\n"
          ],
          "name": "stdout"
        }
      ]
    }
  ]
}