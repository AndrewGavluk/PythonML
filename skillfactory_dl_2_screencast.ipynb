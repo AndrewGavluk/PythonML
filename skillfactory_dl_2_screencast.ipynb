{
  "nbformat": 4,
  "nbformat_minor": 0,
  "metadata": {
    "colab": {
      "name": "skillfactory-dl-2-screencast.ipynb",
      "provenance": [],
      "collapsed_sections": [],
      "include_colab_link": true
    },
    "kernelspec": {
      "display_name": "Python 3",
      "language": "python",
      "name": "python3"
    }
  },
  "cells": [
    {
      "cell_type": "markdown",
      "metadata": {
        "id": "view-in-github",
        "colab_type": "text"
      },
      "source": [
        "<a href=\"https://colab.research.google.com/github/AndrewGavluk/PythonML/blob/main/skillfactory_dl_2_screencast.ipynb\" target=\"_parent\"><img src=\"https://colab.research.google.com/assets/colab-badge.svg\" alt=\"Open In Colab\"/></a>"
      ]
    },
    {
      "cell_type": "markdown",
      "metadata": {
        "id": "Wp8WHGm64-K_"
      },
      "source": [
        "# TF в Colab"
      ]
    },
    {
      "cell_type": "code",
      "metadata": {
        "id": "gRO7QfGp4t-R"
      },
      "source": [
        "%config IPCompleter.greedy=True  # более лучший автокомплит"
      ],
      "execution_count": null,
      "outputs": []
    },
    {
      "cell_type": "code",
      "metadata": {
        "id": "rLn9z0wH4t-V",
        "colab": {
          "base_uri": "https://localhost:8080/",
          "height": 34
        },
        "outputId": "8d40dfee-651d-45c7-ce50-d1705d18a8e5"
      },
      "source": [
        "import tensorflow as tf\n",
        "import numpy as np\n",
        "print(tf.__version__)"
      ],
      "execution_count": null,
      "outputs": [
        {
          "output_type": "stream",
          "text": [
            "1.14.0\n"
          ],
          "name": "stdout"
        }
      ]
    },
    {
      "cell_type": "code",
      "metadata": {
        "id": "P4QBlx_l4t-Z"
      },
      "source": [
        "tf.reset_default_graph()\n",
        "a = tf.placeholder(tf.float32, (2, 2))\n",
        "b = tf.Variable(tf.ones((2, 2)))\n",
        "c = a @ b"
      ],
      "execution_count": null,
      "outputs": []
    },
    {
      "cell_type": "code",
      "metadata": {
        "id": "hUr9Z1wC4t-b",
        "colab": {
          "base_uri": "https://localhost:8080/",
          "height": 34
        },
        "outputId": "db93ccfd-f0df-4d5f-f0d2-c6c4b60b607e"
      },
      "source": [
        "print(c)"
      ],
      "execution_count": null,
      "outputs": [
        {
          "output_type": "stream",
          "text": [
            "Tensor(\"matmul:0\", shape=(2, 2), dtype=float32)\n"
          ],
          "name": "stdout"
        }
      ]
    },
    {
      "cell_type": "code",
      "metadata": {
        "id": "P23DN_wp_Efz",
        "colab": {
          "base_uri": "https://localhost:8080/",
          "height": 51
        },
        "outputId": "205b0c92-f467-4a7c-8321-f6466db0dfd7"
      },
      "source": [
        "print(list(tf.get_default_graph().get_operations()[-1].inputs))\n",
        "print(list(tf.get_default_graph().get_operations()[-1].outputs))"
      ],
      "execution_count": null,
      "outputs": [
        {
          "output_type": "stream",
          "text": [
            "[<tf.Tensor 'Placeholder:0' shape=(2, 2) dtype=float32>, <tf.Tensor 'Variable/read:0' shape=(2, 2) dtype=float32>]\n",
            "[<tf.Tensor 'matmul:0' shape=(2, 2) dtype=float32>]\n"
          ],
          "name": "stdout"
        }
      ]
    },
    {
      "cell_type": "code",
      "metadata": {
        "id": "SCpoFKcE4t-f"
      },
      "source": [
        "s = tf.InteractiveSession()"
      ],
      "execution_count": null,
      "outputs": []
    },
    {
      "cell_type": "code",
      "metadata": {
        "id": "WLnkEvOD4t-j",
        "colab": {
          "base_uri": "https://localhost:8080/",
          "height": 51
        },
        "outputId": "341dd56f-4d06-47a8-bbaa-e5f89019d425"
      },
      "source": [
        "s.run(tf.global_variables_initializer())\n",
        "s.run(c, feed_dict={a: np.ones((2, 2))})"
      ],
      "execution_count": null,
      "outputs": [
        {
          "output_type": "execute_result",
          "data": {
            "text/plain": [
              "array([[2., 2.],\n",
              "       [2., 2.]], dtype=float32)"
            ]
          },
          "metadata": {
            "tags": []
          },
          "execution_count": 10
        }
      ]
    },
    {
      "cell_type": "code",
      "metadata": {
        "id": "tuK_53xo4t-m"
      },
      "source": [
        "s.close()"
      ],
      "execution_count": null,
      "outputs": []
    },
    {
      "cell_type": "markdown",
      "metadata": {
        "id": "UQSGgDQL4t-q"
      },
      "source": [
        "# Оптимизация"
      ]
    },
    {
      "cell_type": "code",
      "metadata": {
        "id": "1VUtdayQ4t-q"
      },
      "source": [
        "tf.reset_default_graph()\n",
        "x = tf.get_variable(\"x\", shape=(), dtype=tf.float32, trainable=True)\n",
        "f = x ** 2"
      ],
      "execution_count": null,
      "outputs": []
    },
    {
      "cell_type": "code",
      "metadata": {
        "id": "oO9CSWfr4t-t"
      },
      "source": [
        "optimizer = tf.train.GradientDescentOptimizer(0.1)\n",
        "step = optimizer.minimize(f, var_list=[x])"
      ],
      "execution_count": null,
      "outputs": []
    },
    {
      "cell_type": "code",
      "metadata": {
        "id": "KZOrrhyA4t-w"
      },
      "source": [
        "tf.trainable_variables()"
      ],
      "execution_count": null,
      "outputs": []
    },
    {
      "cell_type": "code",
      "metadata": {
        "id": "gtNrbzDR4t-4",
        "colab": {
          "base_uri": "https://localhost:8080/",
          "height": 187
        },
        "outputId": "c047862a-420d-479a-b7a7-0cb4111ef694"
      },
      "source": [
        "with tf.Session() as s:  # сессия сама закроется\n",
        "    s.run(tf.global_variables_initializer())\n",
        "    for i in range(10):\n",
        "        _, curr_x, curr_f = s.run([step, x, f])\n",
        "        print(curr_x, curr_f)"
      ],
      "execution_count": null,
      "outputs": [
        {
          "output_type": "stream",
          "text": [
            "1.0783744 1.8170177\n",
            "0.8626995 1.1628913\n",
            "0.6901596 0.7442504\n",
            "0.5521277 0.4763203\n",
            "0.4417022 0.304845\n",
            "0.35336176 0.19510083\n",
            "0.2826894 0.12486453\n",
            "0.22615151 0.079913296\n",
            "0.18092121 0.051144507\n",
            "0.14473698 0.032732487\n"
          ],
          "name": "stdout"
        }
      ]
    },
    {
      "cell_type": "markdown",
      "metadata": {
        "id": "Fw_F68_34t_T"
      },
      "source": [
        "# TensorBoard логирование"
      ]
    },
    {
      "cell_type": "code",
      "metadata": {
        "id": "SDAJKlYL4t_U"
      },
      "source": [
        "tf.reset_default_graph()\n",
        "x = tf.get_variable(\"x\", shape=(), dtype=tf.float32)\n",
        "f = x ** 2"
      ],
      "execution_count": null,
      "outputs": []
    },
    {
      "cell_type": "code",
      "metadata": {
        "id": "OJ1n-qks4t_Z"
      },
      "source": [
        "optimizer = tf.train.GradientDescentOptimizer(0.1)\n",
        "step = optimizer.minimize(f)"
      ],
      "execution_count": null,
      "outputs": []
    },
    {
      "cell_type": "code",
      "metadata": {
        "id": "vemZEd5R4t_f"
      },
      "source": [
        "tf.summary.scalar('curr_x', x)\n",
        "tf.summary.scalar('curr_f', f)\n",
        "summaries = tf.summary.merge_all()"
      ],
      "execution_count": null,
      "outputs": []
    },
    {
      "cell_type": "code",
      "metadata": {
        "id": "UYPtORji4t_i"
      },
      "source": [
        "with tf.Session() as s:\n",
        "  summary_writer = tf.summary.FileWriter(\"logs/1\", s.graph)\n",
        "  s.run(tf.global_variables_initializer())\n",
        "  for i in range(10):\n",
        "      _, curr_summaries = s.run([step, summaries])\n",
        "      summary_writer.add_summary(curr_summaries, i)\n",
        "      summary_writer.flush()"
      ],
      "execution_count": null,
      "outputs": []
    },
    {
      "cell_type": "markdown",
      "metadata": {
        "id": "MxrA13Mm4t_m"
      },
      "source": [
        "Локально можно запустить  `tensorboard --logdir=./logs` в консоли.\n",
        "\n",
        "А вот так можно запустить прямо в Google Colab:"
      ]
    },
    {
      "cell_type": "code",
      "metadata": {
        "id": "SECWjGyg4t_m"
      },
      "source": [
        "! wget https://raw.githubusercontent.com/ZEMUSHKA/skillfactory-dl/master/setup_google_colab.py -O setup_google_colab.py -q\n",
        "import setup_google_colab\n",
        "\n",
        "# запускаем сервер tensorboard в фоне\n",
        "import os\n",
        "os.system(\"tensorboard --logdir=./logs --host 0.0.0.0 --port 6006 &\")\n",
        "\n",
        "# открываем порт из Google Colab\n",
        "setup_google_colab.expose_port_on_colab(6006)"
      ],
      "execution_count": null,
      "outputs": []
    },
    {
      "cell_type": "markdown",
      "metadata": {
        "id": "eNXcol8w4t_q"
      },
      "source": [
        "# Обучение линейной модели"
      ]
    },
    {
      "cell_type": "code",
      "metadata": {
        "id": "_Z1KdRW14t_r",
        "colab": {
          "base_uri": "https://localhost:8080/",
          "height": 51
        },
        "outputId": "c424c2fb-9885-4bfc-833b-dbec947806e7"
      },
      "source": [
        "# модельные данные\n",
        "N = 1000\n",
        "D = 3\n",
        "x = np.random.random((N, D))\n",
        "w = np.random.random((D, 1))\n",
        "y = x @ w + np.random.randn(N, 1) * 0.20\n",
        "\n",
        "print(x.shape, y.shape)\n",
        "print(w.T)"
      ],
      "execution_count": null,
      "outputs": [
        {
          "output_type": "stream",
          "text": [
            "(1000, 3) (1000, 1)\n",
            "[[0.98432495 0.21895209 0.86283045]]\n"
          ],
          "name": "stdout"
        }
      ]
    },
    {
      "cell_type": "code",
      "metadata": {
        "id": "HxC5KVBX4t_t",
        "colab": {
          "base_uri": "https://localhost:8080/",
          "height": 34
        },
        "outputId": "86c55219-f384-471d-fd7b-d793a499c4c8"
      },
      "source": [
        "tf.reset_default_graph()\n",
        "\n",
        "features = tf.placeholder(tf.float32, shape=(None, D), name=\"features\")\n",
        "target = tf.placeholder(tf.float32, shape=(None, 1), name=\"target\")\n",
        "\n",
        "weights = tf.get_variable(\"weights\", shape=(D, 1), dtype=tf.float32)\n",
        "predictions = features @ weights\n",
        "\n",
        "\n",
        "loss = tf.reduce_mean((target - predictions) ** 2, name=\"loss\")\n",
        "\n",
        "print(target.shape, predictions.shape, loss.shape)"
      ],
      "execution_count": null,
      "outputs": [
        {
          "output_type": "stream",
          "text": [
            "(?, 1) (?, 1) ()\n"
          ],
          "name": "stdout"
        }
      ]
    },
    {
      "cell_type": "code",
      "metadata": {
        "id": "Kq76NAMF4t_7"
      },
      "source": [
        "optimizer = tf.train.GradientDescentOptimizer(0.1)\n",
        "step = optimizer.minimize(loss)"
      ],
      "execution_count": null,
      "outputs": []
    },
    {
      "cell_type": "code",
      "metadata": {
        "id": "73GCLl0gHTLZ"
      },
      "source": [
        "# производные это часть графа\n",
        "tf.get_default_graph().get_operations()"
      ],
      "execution_count": null,
      "outputs": []
    },
    {
      "cell_type": "code",
      "metadata": {
        "scrolled": true,
        "id": "14EQwS8g4t_8",
        "colab": {
          "base_uri": "https://localhost:8080/",
          "height": 119
        },
        "outputId": "fc49b649-1626-4efe-8b2e-ad6107c00c48"
      },
      "source": [
        "with tf.Session() as s:\n",
        "    s.run(tf.global_variables_initializer())\n",
        "    for i in range(300):\n",
        "        _, curr_loss, curr_weights = s.run([step, loss, weights], \n",
        "                                           feed_dict={features: x, target: y})\n",
        "        if i % 50 == 0:\n",
        "            print(curr_loss)"
      ],
      "execution_count": null,
      "outputs": [
        {
          "output_type": "stream",
          "text": [
            "7.2150946\n",
            "0.04585571\n",
            "0.038876403\n",
            "0.037462875\n",
            "0.03717636\n",
            "0.03711824\n"
          ],
          "name": "stdout"
        }
      ]
    },
    {
      "cell_type": "code",
      "metadata": {
        "id": "Le4UwJw14uAA",
        "colab": {
          "base_uri": "https://localhost:8080/",
          "height": 34
        },
        "outputId": "712fac2c-3bde-49ce-c289-a9e223f6bd8c"
      },
      "source": [
        "# результат обучения\n",
        "curr_weights.T"
      ],
      "execution_count": null,
      "outputs": [
        {
          "output_type": "execute_result",
          "data": {
            "text/plain": [
              "array([[0.79846495, 0.57642007, 0.56647074]], dtype=float32)"
            ]
          },
          "metadata": {
            "tags": []
          },
          "execution_count": 37
        }
      ]
    },
    {
      "cell_type": "code",
      "metadata": {
        "id": "8cqImP2P4uAF",
        "colab": {
          "base_uri": "https://localhost:8080/",
          "height": 34
        },
        "outputId": "bd9d7ad3-8b42-4edd-85b2-a4d5041cdf66"
      },
      "source": [
        "# правильные веса\n",
        "w.T"
      ],
      "execution_count": null,
      "outputs": [
        {
          "output_type": "execute_result",
          "data": {
            "text/plain": [
              "array([[0.7692187 , 0.59123648, 0.56121469]])"
            ]
          },
          "metadata": {
            "tags": []
          },
          "execution_count": 38
        }
      ]
    },
    {
      "cell_type": "markdown",
      "metadata": {
        "id": "yvG2r5miBCLF"
      },
      "source": [
        "# Обучение в Keras"
      ]
    },
    {
      "cell_type": "code",
      "metadata": {
        "id": "p0c0fnlpBGCI",
        "colab": {
          "base_uri": "https://localhost:8080/",
          "height": 34
        },
        "outputId": "032e68ad-a8c9-424b-d883-a7e351b0856c"
      },
      "source": [
        "import keras\n",
        "import keras.models as M\n",
        "import keras.layers as L\n",
        "import keras.backend as K\n",
        "print(keras.__version__)"
      ],
      "execution_count": null,
      "outputs": [
        {
          "output_type": "stream",
          "text": [
            "2.2.4\n"
          ],
          "name": "stdout"
        }
      ]
    },
    {
      "cell_type": "code",
      "metadata": {
        "id": "egw2cWPnBab3",
        "colab": {
          "base_uri": "https://localhost:8080/",
          "height": 170
        },
        "outputId": "c0bdc4a3-5b57-425f-d3b3-f6b11be1d841"
      },
      "source": [
        "K.clear_session()  # очищает граф и перезапускает сессию\n",
        "\n",
        "model = M.Sequential()\n",
        "model.add(L.Dense(1, use_bias=False, input_shape=(D,)))\n",
        "model.summary()"
      ],
      "execution_count": null,
      "outputs": [
        {
          "output_type": "stream",
          "text": [
            "_________________________________________________________________\n",
            "Layer (type)                 Output Shape              Param #   \n",
            "=================================================================\n",
            "dense_1 (Dense)              (None, 1)                 3         \n",
            "=================================================================\n",
            "Total params: 3\n",
            "Trainable params: 3\n",
            "Non-trainable params: 0\n",
            "_________________________________________________________________\n"
          ],
          "name": "stdout"
        }
      ]
    },
    {
      "cell_type": "code",
      "metadata": {
        "id": "65R7pZxJCCj9",
        "colab": {
          "base_uri": "https://localhost:8080/",
          "height": 51
        },
        "outputId": "9bfa8522-344c-4aa2-a145-e886391a15c8"
      },
      "source": [
        "model.compile(optimizer='sgd', loss='mse', metrics=['mse'])"
      ],
      "execution_count": null,
      "outputs": [
        {
          "output_type": "stream",
          "text": [
            "W0828 05:59:14.830168 140448089249664 deprecation_wrapper.py:119] From /usr/local/lib/python3.6/dist-packages/keras/optimizers.py:790: The name tf.train.Optimizer is deprecated. Please use tf.compat.v1.train.Optimizer instead.\n",
            "\n"
          ],
          "name": "stderr"
        }
      ]
    },
    {
      "cell_type": "code",
      "metadata": {
        "id": "d-03iFU4zs0-",
        "colab": {
          "base_uri": "https://localhost:8080/",
          "height": 34
        },
        "outputId": "987581f6-934f-46e9-cc32-cf01ca7baa33"
      },
      "source": [
        "print(x.shape, y.shape)"
      ],
      "execution_count": null,
      "outputs": [
        {
          "output_type": "stream",
          "text": [
            "(1000, 3) (1000, 1)\n"
          ],
          "name": "stdout"
        }
      ]
    },
    {
      "cell_type": "code",
      "metadata": {
        "id": "6dykIkErCbQN",
        "colab": {
          "base_uri": "https://localhost:8080/",
          "height": 442
        },
        "outputId": "1c774f48-c36e-4bbd-b071-ad0996d05a68"
      },
      "source": [
        "model.fit(x, y, batch_size=8, epochs=10, callbacks=[keras.callbacks.TensorBoard(\"./logs/keras\")])"
      ],
      "execution_count": null,
      "outputs": [
        {
          "output_type": "stream",
          "text": [
            "W0828 05:59:19.965025 140448089249664 deprecation_wrapper.py:119] From /usr/local/lib/python3.6/dist-packages/keras/callbacks.py:850: The name tf.summary.merge_all is deprecated. Please use tf.compat.v1.summary.merge_all instead.\n",
            "\n",
            "W0828 05:59:19.966285 140448089249664 deprecation_wrapper.py:119] From /usr/local/lib/python3.6/dist-packages/keras/callbacks.py:853: The name tf.summary.FileWriter is deprecated. Please use tf.compat.v1.summary.FileWriter instead.\n",
            "\n"
          ],
          "name": "stderr"
        },
        {
          "output_type": "stream",
          "text": [
            "Epoch 1/10\n",
            "1000/1000 [==============================] - 0s 102us/step - loss: 0.7994 - mean_squared_error: 0.7994\n",
            "Epoch 2/10\n",
            "1000/1000 [==============================] - 0s 87us/step - loss: 0.1275 - mean_squared_error: 0.1275\n",
            "Epoch 3/10\n",
            "1000/1000 [==============================] - 0s 81us/step - loss: 0.0913 - mean_squared_error: 0.0913\n",
            "Epoch 4/10\n",
            "1000/1000 [==============================] - 0s 66us/step - loss: 0.0732 - mean_squared_error: 0.0732\n",
            "Epoch 5/10\n",
            "1000/1000 [==============================] - 0s 67us/step - loss: 0.0612 - mean_squared_error: 0.0612\n",
            "Epoch 6/10\n",
            "1000/1000 [==============================] - 0s 71us/step - loss: 0.0532 - mean_squared_error: 0.0532\n",
            "Epoch 7/10\n",
            "1000/1000 [==============================] - 0s 75us/step - loss: 0.0478 - mean_squared_error: 0.0478\n",
            "Epoch 8/10\n",
            "1000/1000 [==============================] - 0s 76us/step - loss: 0.0443 - mean_squared_error: 0.0443\n",
            "Epoch 9/10\n",
            "1000/1000 [==============================] - 0s 79us/step - loss: 0.0419 - mean_squared_error: 0.0419\n",
            "Epoch 10/10\n",
            "1000/1000 [==============================] - 0s 81us/step - loss: 0.0403 - mean_squared_error: 0.0403\n"
          ],
          "name": "stdout"
        },
        {
          "output_type": "execute_result",
          "data": {
            "text/plain": [
              "<keras.callbacks.History at 0x7fbc5f19de48>"
            ]
          },
          "metadata": {
            "tags": []
          },
          "execution_count": 28
        }
      ]
    },
    {
      "cell_type": "code",
      "metadata": {
        "id": "aUS7jvpWCpmY",
        "colab": {
          "base_uri": "https://localhost:8080/",
          "height": 68
        },
        "outputId": "66a7a84f-6e74-40c8-9391-d4fa45a2a58a"
      },
      "source": [
        "s = K.get_session()\n",
        "s.run(model.weights)"
      ],
      "execution_count": null,
      "outputs": [
        {
          "output_type": "execute_result",
          "data": {
            "text/plain": [
              "[array([[0.757604 ],\n",
              "        [0.6322889],\n",
              "        [0.5464471]], dtype=float32)]"
            ]
          },
          "metadata": {
            "tags": []
          },
          "execution_count": 88
        }
      ]
    }
  ]
}